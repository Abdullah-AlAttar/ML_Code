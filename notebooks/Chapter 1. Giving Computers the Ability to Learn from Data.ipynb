{
 "cells": [
  {
   "cell_type": "markdown",
   "metadata": {},
   "source": [
    "![title](../images/types of machine learning.png)"
   ]
  },
  {
   "cell_type": "markdown",
   "metadata": {},
   "source": [
    "![table](../images/mlModel.png)"
   ]
  },
  {
   "cell_type": "markdown",
   "metadata": {},
   "source": [
    "## Regression for predicting continuous outcomes\n",
    "__ We learned in the previous section that the task of classification is to assign\n",
    " categorical, unordered labels to instances. A second type of supervised learning is\n",
    " the prediction of continuous outcomes, which is also called regression analysis. In\n",
    " regression analysis, we are given a number of predictor (explanatory) variables and\n",
    " a continuous response variable (outcome or target), and we try to find a relationship\n",
    " between those variables that allows us to predict an outcome.\n",
    " For example, let's assume that we are interested in predicting the math SAT scores of\n",
    " our students. If there is a relationship between the time spent studying for the test\n",
    " and the final scores, we could use it as training data to learn a model that uses the\n",
    " study time to predict the test scores of future students who are planning to take this\n",
    " test __"
   ]
  },
  {
   "cell_type": "code",
   "execution_count": null,
   "metadata": {
    "collapsed": true
   },
   "outputs": [],
   "source": []
  }
 ],
 "metadata": {
  "kernelspec": {
   "display_name": "Python 3",
   "language": "python",
   "name": "python3"
  },
  "language_info": {
   "codemirror_mode": {
    "name": "ipython",
    "version": 3
   },
   "file_extension": ".py",
   "mimetype": "text/x-python",
   "name": "python",
   "nbconvert_exporter": "python",
   "pygments_lexer": "ipython3",
   "version": "3.6.3"
  }
 },
 "nbformat": 4,
 "nbformat_minor": 2
}
