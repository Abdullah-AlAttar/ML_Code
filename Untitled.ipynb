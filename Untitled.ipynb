{
 "cells": [
  {
   "cell_type": "code",
   "execution_count": 6,
   "metadata": {
    "collapsed": true
   },
   "outputs": [],
   "source": [
    "import numpy as np\n",
    "import pandas as pd\n",
    "import datetime\n",
    "from sklearn import preprocessing\n",
    "from datetime import datetime\n",
    "from sklearn.ensemble import RandomForestClassifier\n",
    "from sklearn import neighbors\n",
    "from sklearn.ensemble import AdaBoostClassifier\n",
    "from sklearn.ensemble import GradientBoostingClassifier\n",
    "from sklearn.svm import SVC\n",
    "import operator\n",
    "\n",
    "from pandas_datareader import data, wb\n",
    "# from sklearn.qda import QDA\n",
    "from sklearn.discriminant_analysis import LinearDiscriminantAnalysis\n",
    "from sklearn.discriminant_analysis import QuadraticDiscriminantAnalysis\n",
    "from dateutil import parser\n",
    "# from backtest import Strategy, Portfolio\n"
   ]
  },
  {
   "cell_type": "code",
   "execution_count": 24,
   "metadata": {
    "collapsed": true
   },
   "outputs": [],
   "source": [
    "\n",
    "def getStock(symbol, start, end):\n",
    "    df =  data.get_data_yahoo(symbol, start, end)\n",
    "    df.columns = df.columns + '_' + symbol\n",
    "    df['Return_%s' %symbol] = df['Adj Close_%s' %symbol].pct_change()\n",
    "    return df"
   ]
  },
  {
   "cell_type": "code",
   "execution_count": 25,
   "metadata": {
    "collapsed": true
   },
   "outputs": [],
   "source": [
    "start = '2014-1-2'\n",
    "end = '2016-2-4'\n",
    "goog = getStock('GOOG',start,end)"
   ]
  },
  {
   "cell_type": "code",
   "execution_count": 26,
   "metadata": {},
   "outputs": [
    {
     "data": {
      "text/html": [
       "<div>\n",
       "<style scoped>\n",
       "    .dataframe tbody tr th:only-of-type {\n",
       "        vertical-align: middle;\n",
       "    }\n",
       "\n",
       "    .dataframe tbody tr th {\n",
       "        vertical-align: top;\n",
       "    }\n",
       "\n",
       "    .dataframe thead th {\n",
       "        text-align: right;\n",
       "    }\n",
       "</style>\n",
       "<table border=\"1\" class=\"dataframe\">\n",
       "  <thead>\n",
       "    <tr style=\"text-align: right;\">\n",
       "      <th></th>\n",
       "      <th>Open_GOOG</th>\n",
       "      <th>High_GOOG</th>\n",
       "      <th>Low_GOOG</th>\n",
       "      <th>Close_GOOG</th>\n",
       "      <th>Adj Close_GOOG</th>\n",
       "      <th>Volume_GOOG</th>\n",
       "      <th>Return_GOOG</th>\n",
       "    </tr>\n",
       "    <tr>\n",
       "      <th>Date</th>\n",
       "      <th></th>\n",
       "      <th></th>\n",
       "      <th></th>\n",
       "      <th></th>\n",
       "      <th></th>\n",
       "      <th></th>\n",
       "      <th></th>\n",
       "    </tr>\n",
       "  </thead>\n",
       "  <tbody>\n",
       "    <tr>\n",
       "      <th>2014-01-02</th>\n",
       "      <td>554.125916</td>\n",
       "      <td>555.263550</td>\n",
       "      <td>550.549194</td>\n",
       "      <td>552.963501</td>\n",
       "      <td>552.963501</td>\n",
       "      <td>3666400</td>\n",
       "      <td>NaN</td>\n",
       "    </tr>\n",
       "    <tr>\n",
       "      <th>2014-01-03</th>\n",
       "      <td>553.897461</td>\n",
       "      <td>554.856201</td>\n",
       "      <td>548.894958</td>\n",
       "      <td>548.929749</td>\n",
       "      <td>548.929749</td>\n",
       "      <td>3355000</td>\n",
       "      <td>-0.007295</td>\n",
       "    </tr>\n",
       "    <tr>\n",
       "      <th>2014-01-06</th>\n",
       "      <td>552.908875</td>\n",
       "      <td>555.814941</td>\n",
       "      <td>549.645081</td>\n",
       "      <td>555.049927</td>\n",
       "      <td>555.049927</td>\n",
       "      <td>3561600</td>\n",
       "      <td>0.011149</td>\n",
       "    </tr>\n",
       "    <tr>\n",
       "      <th>2014-01-07</th>\n",
       "      <td>558.865112</td>\n",
       "      <td>566.162659</td>\n",
       "      <td>556.957520</td>\n",
       "      <td>565.750366</td>\n",
       "      <td>565.750366</td>\n",
       "      <td>5138400</td>\n",
       "      <td>0.019278</td>\n",
       "    </tr>\n",
       "    <tr>\n",
       "      <th>2014-01-08</th>\n",
       "      <td>569.297241</td>\n",
       "      <td>569.953003</td>\n",
       "      <td>562.983337</td>\n",
       "      <td>566.927673</td>\n",
       "      <td>566.927673</td>\n",
       "      <td>4514100</td>\n",
       "      <td>0.002081</td>\n",
       "    </tr>\n",
       "  </tbody>\n",
       "</table>\n",
       "</div>"
      ],
      "text/plain": [
       "             Open_GOOG   High_GOOG    Low_GOOG  Close_GOOG  Adj Close_GOOG  \\\n",
       "Date                                                                         \n",
       "2014-01-02  554.125916  555.263550  550.549194  552.963501      552.963501   \n",
       "2014-01-03  553.897461  554.856201  548.894958  548.929749      548.929749   \n",
       "2014-01-06  552.908875  555.814941  549.645081  555.049927      555.049927   \n",
       "2014-01-07  558.865112  566.162659  556.957520  565.750366      565.750366   \n",
       "2014-01-08  569.297241  569.953003  562.983337  566.927673      566.927673   \n",
       "\n",
       "            Volume_GOOG  Return_GOOG  \n",
       "Date                                  \n",
       "2014-01-02      3666400          NaN  \n",
       "2014-01-03      3355000    -0.007295  \n",
       "2014-01-06      3561600     0.011149  \n",
       "2014-01-07      5138400     0.019278  \n",
       "2014-01-08      4514100     0.002081  "
      ]
     },
     "execution_count": 26,
     "metadata": {},
     "output_type": "execute_result"
    }
   ],
   "source": [
    "goog.head()"
   ]
  },
  {
   "cell_type": "code",
   "execution_count": 27,
   "metadata": {
    "collapsed": true
   },
   "outputs": [],
   "source": [
    "def addFeatures(dataframe, adjclose, returns, n):\n",
    "    \"\"\"\n",
    "    operates on two columns of dataframe:\n",
    "    - n >= 2\n",
    "    - given Return_* computes the return of day i respect to day i-n. \n",
    "    - given AdjClose_* computes its moving average on n days\n",
    "\n",
    "    \"\"\"\n",
    "    return_n = adjclose[9:] + \"Time\" + str(n)\n",
    "    dataframe[return_n] = dataframe[adjclose].pct_change(n)\n",
    "    \n",
    "    roll_n = returns[7:] + \"RolMean\" + str(n)\n",
    "    dataframe[roll_n] = pd.rolling_mean(dataframe[returns], n)\n"
   ]
  },
  {
   "cell_type": "code",
   "execution_count": 28,
   "metadata": {
    "collapsed": true
   },
   "outputs": [],
   "source": [
    "def applyRollMeanDelayedReturns(datasets, delta):\n",
    "    \"\"\"\n",
    "    applies rolling mean and delayed returns to each dataframe in the list\n",
    "    \"\"\"\n",
    "    for dataset in datasets:\n",
    "        columns = dataset.columns    \n",
    "        adjclose = columns[-2]\n",
    "        returns = columns[-1]\n",
    "        for n in delta:\n",
    "            addFeatures(dataset, adjclose, returns, n)\n",
    "    \n",
    "    return datasets  "
   ]
  },
  {
   "cell_type": "code",
   "execution_count": 30,
   "metadata": {
    "collapsed": true
   },
   "outputs": [],
   "source": [
    "def mergeDataframes(datasets, index, cut):\n",
    "    \"\"\"\n",
    "    merges datasets in the list \n",
    "    \"\"\"\n",
    "    subset = []\n",
    "    subset = [dataset.iloc[:, index:] for dataset in datasets[1:]]\n",
    "    \n",
    "    first = subset[0].join(subset[1:], how = 'outer')\n",
    "    finance = datasets[0].iloc[:, index:].join(first, how = 'left') \n",
    "    finance = finance[finance.index > cut]\n",
    "    return finance"
   ]
  },
  {
   "cell_type": "code",
   "execution_count": 31,
   "metadata": {
    "collapsed": true
   },
   "outputs": [],
   "source": [
    "def applyTimeLag(dataset, lags, delta):\n",
    "    \"\"\"\n",
    "    apply time lag to return columns selected according  to delta.\n",
    "    Days to lag are contained in the lads list passed as argument.\n",
    "    Returns a NaN free dataset obtained cutting the lagged dataset\n",
    "    at head and tail\n",
    "    \"\"\"\n",
    "    \n",
    "    dataset.Return_Out = dataset.Return_Out.shift(-1)\n",
    "    maxLag = max(lags)\n",
    "\n",
    "    columns = dataset.columns[::(2*max(delta)-1)]\n",
    "    for column in columns:\n",
    "        for lag in lags:\n",
    "            newcolumn = column + str(lag)\n",
    "            dataset[newcolumn] = dataset[column].shift(lag)\n",
    "\n",
    "    return dataset.iloc[maxLag:-1,:]"
   ]
  },
  {
   "cell_type": "code",
   "execution_count": 1,
   "metadata": {
    "collapsed": true
   },
   "outputs": [],
   "source": [
    "import tensorflow as tf"
   ]
  },
  {
   "cell_type": "code",
   "execution_count": 2,
   "metadata": {},
   "outputs": [
    {
     "data": {
      "text/plain": [
       "'1.4.0'"
      ]
     },
     "execution_count": 2,
     "metadata": {},
     "output_type": "execute_result"
    }
   ],
   "source": [
    "tf.__version__"
   ]
  },
  {
   "cell_type": "code",
   "execution_count": 3,
   "metadata": {},
   "outputs": [
    {
     "ename": "ModuleNotFoundError",
     "evalue": "No module named 'tensorflow.keras'",
     "output_type": "error",
     "traceback": [
      "\u001b[1;31m---------------------------------------------------------------------------\u001b[0m",
      "\u001b[1;31mModuleNotFoundError\u001b[0m                       Traceback (most recent call last)",
      "\u001b[1;32m<ipython-input-3-3ebdbb4e1b3d>\u001b[0m in \u001b[0;36m<module>\u001b[1;34m()\u001b[0m\n\u001b[1;32m----> 1\u001b[1;33m \u001b[1;32mimport\u001b[0m \u001b[0mtensorflow\u001b[0m\u001b[1;33m.\u001b[0m\u001b[0mkeras\u001b[0m \u001b[1;32mas\u001b[0m \u001b[0mkeras\u001b[0m\u001b[1;33m\u001b[0m\u001b[0m\n\u001b[0m",
      "\u001b[1;31mModuleNotFoundError\u001b[0m: No module named 'tensorflow.keras'"
     ]
    }
   ],
   "source": [
    "import tensorflow.keras as keras"
   ]
  },
  {
   "cell_type": "code",
   "execution_count": 5,
   "metadata": {},
   "outputs": [],
   "source": [
    "import tensorflow.contrib.keras as keras"
   ]
  },
  {
   "cell_type": "code",
   "execution_count": 7,
   "metadata": {},
   "outputs": [],
   "source": [
    "model = keras.models.Sequential()"
   ]
  },
  {
   "cell_type": "code",
   "execution_count": null,
   "metadata": {
    "collapsed": true
   },
   "outputs": [],
   "source": []
  }
 ],
 "metadata": {
  "kernelspec": {
   "display_name": "Python 3",
   "language": "python",
   "name": "python3"
  },
  "language_info": {
   "codemirror_mode": {
    "name": "ipython",
    "version": 3
   },
   "file_extension": ".py",
   "mimetype": "text/x-python",
   "name": "python",
   "nbconvert_exporter": "python",
   "pygments_lexer": "ipython3",
   "version": "3.6.3"
  }
 },
 "nbformat": 4,
 "nbformat_minor": 2
}
